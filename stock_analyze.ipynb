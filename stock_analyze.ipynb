{
  "nbformat": 4,
  "nbformat_minor": 0,
  "metadata": {
    "colab": {
      "name": "stock_analyze.ipynb",
      "provenance": [],
      "collapsed_sections": []
    },
    "kernelspec": {
      "name": "python3",
      "display_name": "Python 3"
    },
    "language_info": {
      "name": "python"
    }
  },
  "cells": [
    {
      "cell_type": "code",
      "metadata": {
        "colab": {
          "base_uri": "https://localhost:8080/"
        },
        "id": "qJf7uVQNnbAP",
        "outputId": "0ecf7577-b755-405f-eec2-b79f29e130d7"
      },
      "source": [
        "!pip install yfinance"
      ],
      "execution_count": null,
      "outputs": [
        {
          "output_type": "stream",
          "text": [
            "Requirement already satisfied: yfinance in /usr/local/lib/python3.7/dist-packages (0.1.63)\n",
            "Requirement already satisfied: numpy>=1.15 in /usr/local/lib/python3.7/dist-packages (from yfinance) (1.19.5)\n",
            "Requirement already satisfied: pandas>=0.24 in /usr/local/lib/python3.7/dist-packages (from yfinance) (1.1.5)\n",
            "Requirement already satisfied: requests>=2.20 in /usr/local/lib/python3.7/dist-packages (from yfinance) (2.23.0)\n",
            "Requirement already satisfied: multitasking>=0.0.7 in /usr/local/lib/python3.7/dist-packages (from yfinance) (0.0.9)\n",
            "Requirement already satisfied: lxml>=4.5.1 in /usr/local/lib/python3.7/dist-packages (from yfinance) (4.6.3)\n",
            "Requirement already satisfied: pytz>=2017.2 in /usr/local/lib/python3.7/dist-packages (from pandas>=0.24->yfinance) (2018.9)\n",
            "Requirement already satisfied: python-dateutil>=2.7.3 in /usr/local/lib/python3.7/dist-packages (from pandas>=0.24->yfinance) (2.8.1)\n",
            "Requirement already satisfied: idna<3,>=2.5 in /usr/local/lib/python3.7/dist-packages (from requests>=2.20->yfinance) (2.10)\n",
            "Requirement already satisfied: urllib3!=1.25.0,!=1.25.1,<1.26,>=1.21.1 in /usr/local/lib/python3.7/dist-packages (from requests>=2.20->yfinance) (1.24.3)\n",
            "Requirement already satisfied: chardet<4,>=3.0.2 in /usr/local/lib/python3.7/dist-packages (from requests>=2.20->yfinance) (3.0.4)\n",
            "Requirement already satisfied: certifi>=2017.4.17 in /usr/local/lib/python3.7/dist-packages (from requests>=2.20->yfinance) (2021.5.30)\n",
            "Requirement already satisfied: six>=1.5 in /usr/local/lib/python3.7/dist-packages (from python-dateutil>=2.7.3->pandas>=0.24->yfinance) (1.15.0)\n"
          ],
          "name": "stdout"
        }
      ]
    },
    {
      "cell_type": "code",
      "metadata": {
        "id": "oIPBDElvA52x"
      },
      "source": [
        "import yfinance as yf"
      ],
      "execution_count": null,
      "outputs": []
    },
    {
      "cell_type": "code",
      "metadata": {
        "id": "j_C9la4vnbD4"
      },
      "source": [
        "goog = yf.Ticker(\"goog\")"
      ],
      "execution_count": null,
      "outputs": []
    },
    {
      "cell_type": "code",
      "metadata": {
        "id": "ourfv5VCnbH1"
      },
      "source": [
        "df = goog.history(period=\"max\")"
      ],
      "execution_count": null,
      "outputs": []
    },
    {
      "cell_type": "code",
      "metadata": {
        "colab": {
          "base_uri": "https://localhost:8080/",
          "height": 450
        },
        "id": "0w1M7eSYnbLv",
        "outputId": "a4f62cd0-96b3-4b34-8f07-363359491120"
      },
      "source": [
        "df"
      ],
      "execution_count": null,
      "outputs": [
        {
          "output_type": "execute_result",
          "data": {
            "text/html": [
              "<div>\n",
              "<style scoped>\n",
              "    .dataframe tbody tr th:only-of-type {\n",
              "        vertical-align: middle;\n",
              "    }\n",
              "\n",
              "    .dataframe tbody tr th {\n",
              "        vertical-align: top;\n",
              "    }\n",
              "\n",
              "    .dataframe thead th {\n",
              "        text-align: right;\n",
              "    }\n",
              "</style>\n",
              "<table border=\"1\" class=\"dataframe\">\n",
              "  <thead>\n",
              "    <tr style=\"text-align: right;\">\n",
              "      <th></th>\n",
              "      <th>Open</th>\n",
              "      <th>High</th>\n",
              "      <th>Low</th>\n",
              "      <th>Close</th>\n",
              "      <th>Volume</th>\n",
              "      <th>Dividends</th>\n",
              "      <th>Stock Splits</th>\n",
              "    </tr>\n",
              "    <tr>\n",
              "      <th>Date</th>\n",
              "      <th></th>\n",
              "      <th></th>\n",
              "      <th></th>\n",
              "      <th></th>\n",
              "      <th></th>\n",
              "      <th></th>\n",
              "      <th></th>\n",
              "    </tr>\n",
              "  </thead>\n",
              "  <tbody>\n",
              "    <tr>\n",
              "      <th>2004-08-19</th>\n",
              "      <td>49.813290</td>\n",
              "      <td>51.835709</td>\n",
              "      <td>47.800831</td>\n",
              "      <td>49.982655</td>\n",
              "      <td>44871361</td>\n",
              "      <td>0</td>\n",
              "      <td>0.0</td>\n",
              "    </tr>\n",
              "    <tr>\n",
              "      <th>2004-08-20</th>\n",
              "      <td>50.316402</td>\n",
              "      <td>54.336334</td>\n",
              "      <td>50.062355</td>\n",
              "      <td>53.952770</td>\n",
              "      <td>22942874</td>\n",
              "      <td>0</td>\n",
              "      <td>0.0</td>\n",
              "    </tr>\n",
              "    <tr>\n",
              "      <th>2004-08-23</th>\n",
              "      <td>55.168217</td>\n",
              "      <td>56.528118</td>\n",
              "      <td>54.321388</td>\n",
              "      <td>54.495735</td>\n",
              "      <td>18342897</td>\n",
              "      <td>0</td>\n",
              "      <td>0.0</td>\n",
              "    </tr>\n",
              "    <tr>\n",
              "      <th>2004-08-24</th>\n",
              "      <td>55.412300</td>\n",
              "      <td>55.591629</td>\n",
              "      <td>51.591621</td>\n",
              "      <td>52.239197</td>\n",
              "      <td>15319808</td>\n",
              "      <td>0</td>\n",
              "      <td>0.0</td>\n",
              "    </tr>\n",
              "    <tr>\n",
              "      <th>2004-08-25</th>\n",
              "      <td>52.284027</td>\n",
              "      <td>53.798351</td>\n",
              "      <td>51.746044</td>\n",
              "      <td>52.802086</td>\n",
              "      <td>9232276</td>\n",
              "      <td>0</td>\n",
              "      <td>0.0</td>\n",
              "    </tr>\n",
              "    <tr>\n",
              "      <th>...</th>\n",
              "      <td>...</td>\n",
              "      <td>...</td>\n",
              "      <td>...</td>\n",
              "      <td>...</td>\n",
              "      <td>...</td>\n",
              "      <td>...</td>\n",
              "      <td>...</td>\n",
              "    </tr>\n",
              "    <tr>\n",
              "      <th>2021-07-06</th>\n",
              "      <td>2588.989990</td>\n",
              "      <td>2597.689941</td>\n",
              "      <td>2568.179932</td>\n",
              "      <td>2595.419922</td>\n",
              "      <td>1067500</td>\n",
              "      <td>0</td>\n",
              "      <td>0.0</td>\n",
              "    </tr>\n",
              "    <tr>\n",
              "      <th>2021-07-07</th>\n",
              "      <td>2606.820068</td>\n",
              "      <td>2612.798096</td>\n",
              "      <td>2595.199951</td>\n",
              "      <td>2601.550049</td>\n",
              "      <td>834000</td>\n",
              "      <td>0</td>\n",
              "      <td>0.0</td>\n",
              "    </tr>\n",
              "    <tr>\n",
              "      <th>2021-07-08</th>\n",
              "      <td>2565.000000</td>\n",
              "      <td>2600.649902</td>\n",
              "      <td>2560.800049</td>\n",
              "      <td>2583.540039</td>\n",
              "      <td>989000</td>\n",
              "      <td>0</td>\n",
              "      <td>0.0</td>\n",
              "    </tr>\n",
              "    <tr>\n",
              "      <th>2021-07-09</th>\n",
              "      <td>2578.889893</td>\n",
              "      <td>2596.989990</td>\n",
              "      <td>2578.870117</td>\n",
              "      <td>2591.489990</td>\n",
              "      <td>755300</td>\n",
              "      <td>0</td>\n",
              "      <td>0.0</td>\n",
              "    </tr>\n",
              "    <tr>\n",
              "      <th>2021-07-12</th>\n",
              "      <td>2596.669922</td>\n",
              "      <td>2610.767578</td>\n",
              "      <td>2592.000000</td>\n",
              "      <td>2608.320068</td>\n",
              "      <td>260790</td>\n",
              "      <td>0</td>\n",
              "      <td>0.0</td>\n",
              "    </tr>\n",
              "  </tbody>\n",
              "</table>\n",
              "<p>4253 rows × 7 columns</p>\n",
              "</div>"
            ],
            "text/plain": [
              "                   Open         High  ...  Dividends  Stock Splits\n",
              "Date                                  ...                         \n",
              "2004-08-19    49.813290    51.835709  ...          0           0.0\n",
              "2004-08-20    50.316402    54.336334  ...          0           0.0\n",
              "2004-08-23    55.168217    56.528118  ...          0           0.0\n",
              "2004-08-24    55.412300    55.591629  ...          0           0.0\n",
              "2004-08-25    52.284027    53.798351  ...          0           0.0\n",
              "...                 ...          ...  ...        ...           ...\n",
              "2021-07-06  2588.989990  2597.689941  ...          0           0.0\n",
              "2021-07-07  2606.820068  2612.798096  ...          0           0.0\n",
              "2021-07-08  2565.000000  2600.649902  ...          0           0.0\n",
              "2021-07-09  2578.889893  2596.989990  ...          0           0.0\n",
              "2021-07-12  2596.669922  2610.767578  ...          0           0.0\n",
              "\n",
              "[4253 rows x 7 columns]"
            ]
          },
          "metadata": {
            "tags": []
          },
          "execution_count": 5
        }
      ]
    },
    {
      "cell_type": "code",
      "metadata": {
        "id": "nn3JJBQvnbO0"
      },
      "source": [
        "df[\"recommend\"] = 0"
      ],
      "execution_count": null,
      "outputs": []
    },
    {
      "cell_type": "code",
      "metadata": {
        "id": "BmMcMa6UpQxX"
      },
      "source": [
        "days = 3\n",
        "for i in range(4252-days):\n",
        "  if (df.iloc[i+1:i+1+days,3].mean() > df.iat[i,3]):\n",
        "    df.iloc[i,7] = 1\n"
      ],
      "execution_count": null,
      "outputs": []
    },
    {
      "cell_type": "code",
      "metadata": {
        "colab": {
          "base_uri": "https://localhost:8080/",
          "height": 450
        },
        "id": "sHqXT0ZSpQ0U",
        "outputId": "fac82a69-3ed9-40a3-e48a-67332b4a4e03"
      },
      "source": [
        "df"
      ],
      "execution_count": null,
      "outputs": [
        {
          "output_type": "execute_result",
          "data": {
            "text/html": [
              "<div>\n",
              "<style scoped>\n",
              "    .dataframe tbody tr th:only-of-type {\n",
              "        vertical-align: middle;\n",
              "    }\n",
              "\n",
              "    .dataframe tbody tr th {\n",
              "        vertical-align: top;\n",
              "    }\n",
              "\n",
              "    .dataframe thead th {\n",
              "        text-align: right;\n",
              "    }\n",
              "</style>\n",
              "<table border=\"1\" class=\"dataframe\">\n",
              "  <thead>\n",
              "    <tr style=\"text-align: right;\">\n",
              "      <th></th>\n",
              "      <th>Open</th>\n",
              "      <th>High</th>\n",
              "      <th>Low</th>\n",
              "      <th>Close</th>\n",
              "      <th>Volume</th>\n",
              "      <th>Dividends</th>\n",
              "      <th>Stock Splits</th>\n",
              "      <th>recommend</th>\n",
              "    </tr>\n",
              "    <tr>\n",
              "      <th>Date</th>\n",
              "      <th></th>\n",
              "      <th></th>\n",
              "      <th></th>\n",
              "      <th></th>\n",
              "      <th></th>\n",
              "      <th></th>\n",
              "      <th></th>\n",
              "      <th></th>\n",
              "    </tr>\n",
              "  </thead>\n",
              "  <tbody>\n",
              "    <tr>\n",
              "      <th>2004-08-19</th>\n",
              "      <td>49.813290</td>\n",
              "      <td>51.835709</td>\n",
              "      <td>47.800831</td>\n",
              "      <td>49.982655</td>\n",
              "      <td>44871361</td>\n",
              "      <td>0</td>\n",
              "      <td>0.0</td>\n",
              "      <td>1</td>\n",
              "    </tr>\n",
              "    <tr>\n",
              "      <th>2004-08-20</th>\n",
              "      <td>50.316402</td>\n",
              "      <td>54.336334</td>\n",
              "      <td>50.062355</td>\n",
              "      <td>53.952770</td>\n",
              "      <td>22942874</td>\n",
              "      <td>0</td>\n",
              "      <td>0.0</td>\n",
              "      <td>0</td>\n",
              "    </tr>\n",
              "    <tr>\n",
              "      <th>2004-08-23</th>\n",
              "      <td>55.168217</td>\n",
              "      <td>56.528118</td>\n",
              "      <td>54.321388</td>\n",
              "      <td>54.495735</td>\n",
              "      <td>18342897</td>\n",
              "      <td>0</td>\n",
              "      <td>0.0</td>\n",
              "      <td>0</td>\n",
              "    </tr>\n",
              "    <tr>\n",
              "      <th>2004-08-24</th>\n",
              "      <td>55.412300</td>\n",
              "      <td>55.591629</td>\n",
              "      <td>51.591621</td>\n",
              "      <td>52.239197</td>\n",
              "      <td>15319808</td>\n",
              "      <td>0</td>\n",
              "      <td>0.0</td>\n",
              "      <td>1</td>\n",
              "    </tr>\n",
              "    <tr>\n",
              "      <th>2004-08-25</th>\n",
              "      <td>52.284027</td>\n",
              "      <td>53.798351</td>\n",
              "      <td>51.746044</td>\n",
              "      <td>52.802086</td>\n",
              "      <td>9232276</td>\n",
              "      <td>0</td>\n",
              "      <td>0.0</td>\n",
              "      <td>0</td>\n",
              "    </tr>\n",
              "    <tr>\n",
              "      <th>...</th>\n",
              "      <td>...</td>\n",
              "      <td>...</td>\n",
              "      <td>...</td>\n",
              "      <td>...</td>\n",
              "      <td>...</td>\n",
              "      <td>...</td>\n",
              "      <td>...</td>\n",
              "      <td>...</td>\n",
              "    </tr>\n",
              "    <tr>\n",
              "      <th>2021-07-06</th>\n",
              "      <td>2588.989990</td>\n",
              "      <td>2597.689941</td>\n",
              "      <td>2568.179932</td>\n",
              "      <td>2595.419922</td>\n",
              "      <td>1067500</td>\n",
              "      <td>0</td>\n",
              "      <td>0.0</td>\n",
              "      <td>0</td>\n",
              "    </tr>\n",
              "    <tr>\n",
              "      <th>2021-07-07</th>\n",
              "      <td>2606.820068</td>\n",
              "      <td>2612.798096</td>\n",
              "      <td>2595.199951</td>\n",
              "      <td>2601.550049</td>\n",
              "      <td>834000</td>\n",
              "      <td>0</td>\n",
              "      <td>0.0</td>\n",
              "      <td>0</td>\n",
              "    </tr>\n",
              "    <tr>\n",
              "      <th>2021-07-08</th>\n",
              "      <td>2565.000000</td>\n",
              "      <td>2600.649902</td>\n",
              "      <td>2560.800049</td>\n",
              "      <td>2583.540039</td>\n",
              "      <td>989000</td>\n",
              "      <td>0</td>\n",
              "      <td>0.0</td>\n",
              "      <td>0</td>\n",
              "    </tr>\n",
              "    <tr>\n",
              "      <th>2021-07-09</th>\n",
              "      <td>2578.889893</td>\n",
              "      <td>2596.989990</td>\n",
              "      <td>2578.870117</td>\n",
              "      <td>2591.489990</td>\n",
              "      <td>755300</td>\n",
              "      <td>0</td>\n",
              "      <td>0.0</td>\n",
              "      <td>0</td>\n",
              "    </tr>\n",
              "    <tr>\n",
              "      <th>2021-07-12</th>\n",
              "      <td>2596.669922</td>\n",
              "      <td>2610.767578</td>\n",
              "      <td>2592.000000</td>\n",
              "      <td>2608.320068</td>\n",
              "      <td>260790</td>\n",
              "      <td>0</td>\n",
              "      <td>0.0</td>\n",
              "      <td>0</td>\n",
              "    </tr>\n",
              "  </tbody>\n",
              "</table>\n",
              "<p>4253 rows × 8 columns</p>\n",
              "</div>"
            ],
            "text/plain": [
              "                   Open         High  ...  Stock Splits  recommend\n",
              "Date                                  ...                         \n",
              "2004-08-19    49.813290    51.835709  ...           0.0          1\n",
              "2004-08-20    50.316402    54.336334  ...           0.0          0\n",
              "2004-08-23    55.168217    56.528118  ...           0.0          0\n",
              "2004-08-24    55.412300    55.591629  ...           0.0          1\n",
              "2004-08-25    52.284027    53.798351  ...           0.0          0\n",
              "...                 ...          ...  ...           ...        ...\n",
              "2021-07-06  2588.989990  2597.689941  ...           0.0          0\n",
              "2021-07-07  2606.820068  2612.798096  ...           0.0          0\n",
              "2021-07-08  2565.000000  2600.649902  ...           0.0          0\n",
              "2021-07-09  2578.889893  2596.989990  ...           0.0          0\n",
              "2021-07-12  2596.669922  2610.767578  ...           0.0          0\n",
              "\n",
              "[4253 rows x 8 columns]"
            ]
          },
          "metadata": {
            "tags": []
          },
          "execution_count": 8
        }
      ]
    },
    {
      "cell_type": "code",
      "metadata": {
        "id": "s8NobpM_pQ3V"
      },
      "source": [
        "import numpy as np"
      ],
      "execution_count": null,
      "outputs": []
    },
    {
      "cell_type": "code",
      "metadata": {
        "id": "_Uw02yXspQ5-"
      },
      "source": [
        "X = []"
      ],
      "execution_count": null,
      "outputs": []
    },
    {
      "cell_type": "code",
      "metadata": {
        "id": "UehSjqT4pQ8l"
      },
      "source": [
        "for i in  range(4252-12):\n",
        "  x = df.iloc[i:i+10,0:5]\n",
        "  #x[\"ID\"] = range(1,11)\n",
        "  X.append(x.to_numpy().ravel())"
      ],
      "execution_count": null,
      "outputs": []
    },
    {
      "cell_type": "code",
      "metadata": {
        "colab": {
          "base_uri": "https://localhost:8080/"
        },
        "id": "12U7HRgdCfL3",
        "outputId": "81d239a3-5068-4645-a5ae-4f462d1d23bb"
      },
      "source": [
        "X[0].shape"
      ],
      "execution_count": null,
      "outputs": [
        {
          "output_type": "execute_result",
          "data": {
            "text/plain": [
              "(50,)"
            ]
          },
          "metadata": {
            "tags": []
          },
          "execution_count": 12
        }
      ]
    },
    {
      "cell_type": "code",
      "metadata": {
        "id": "di7PiJeNxl55"
      },
      "source": [
        "y = df.iloc[9:4249,7]"
      ],
      "execution_count": null,
      "outputs": []
    },
    {
      "cell_type": "code",
      "metadata": {
        "colab": {
          "base_uri": "https://localhost:8080/"
        },
        "id": "jbyNpopNxmKt",
        "outputId": "87ec38a6-f64b-4d24-e9e5-7337540606a2"
      },
      "source": [
        "len(X)"
      ],
      "execution_count": null,
      "outputs": [
        {
          "output_type": "execute_result",
          "data": {
            "text/plain": [
              "4240"
            ]
          },
          "metadata": {
            "tags": []
          },
          "execution_count": 14
        }
      ]
    },
    {
      "cell_type": "code",
      "metadata": {
        "colab": {
          "base_uri": "https://localhost:8080/"
        },
        "id": "PzSAkLWLxmXM",
        "outputId": "5ed91e0f-7c2c-4500-c5a6-dd3f42e20e6e"
      },
      "source": [
        "y"
      ],
      "execution_count": null,
      "outputs": [
        {
          "output_type": "execute_result",
          "data": {
            "text/plain": [
              "Date\n",
              "2004-09-01    1\n",
              "2004-09-02    0\n",
              "2004-09-03    1\n",
              "2004-09-07    1\n",
              "2004-09-08    1\n",
              "             ..\n",
              "2021-06-29    1\n",
              "2021-06-30    1\n",
              "2021-07-01    1\n",
              "2021-07-02    1\n",
              "2021-07-06    0\n",
              "Name: recommend, Length: 4240, dtype: int64"
            ]
          },
          "metadata": {
            "tags": []
          },
          "execution_count": 15
        }
      ]
    },
    {
      "cell_type": "code",
      "metadata": {
        "id": "LpK01M8l0DL3"
      },
      "source": [
        "import tensorflow as tf\n",
        "from sklearn.model_selection import train_test_split\n",
        "from sklearn.preprocessing import  StandardScaler\n",
        "from tensorflow.keras.layers import LSTM"
      ],
      "execution_count": null,
      "outputs": []
    },
    {
      "cell_type": "code",
      "metadata": {
        "id": "udbKLkTy0DO_"
      },
      "source": [
        "X_train, X_test, y_train, y_test = train_test_split(X, y, random_state=78)"
      ],
      "execution_count": null,
      "outputs": []
    },
    {
      "cell_type": "code",
      "metadata": {
        "id": "2U-9RY270DSI"
      },
      "source": [
        "X_scaler = StandardScaler()"
      ],
      "execution_count": null,
      "outputs": []
    },
    {
      "cell_type": "code",
      "metadata": {
        "id": "0KNvGd2Z0DVI"
      },
      "source": [
        "# Fit the scaler\n",
        "X_scaler.fit(X_train)\n",
        "\n",
        "# Scale the data\n",
        "X_train_scaled = X_scaler.transform(X_train)\n",
        "X_test_scaled = X_scaler.transform(X_test)"
      ],
      "execution_count": null,
      "outputs": []
    },
    {
      "cell_type": "code",
      "metadata": {
        "id": "FhN5wFnE0DYJ"
      },
      "source": [
        "# Create the Keras Sequential model\n",
        "nn_model = tf.keras.models.Sequential()\n",
        "# Add our first Dense layer, including the input layer\n",
        "nn_model.add(tf.keras.layers.Dense(units=180, activation=\"relu\",input_dim=50))\n",
        "nn_model.add(tf.keras.layers.Dense(units=360, activation=\"relu\"))\n",
        "# Add the output layer that uses a probability activation function\n",
        "nn_model.add(tf.keras.layers.Dense(units=1, activation=\"sigmoid\"))"
      ],
      "execution_count": null,
      "outputs": []
    },
    {
      "cell_type": "code",
      "metadata": {
        "id": "M9LK0piu0DbH"
      },
      "source": [
        "# Compile the Sequential model together and customize metrics\n",
        "nn_model.compile(loss=\"binary_crossentropy\", optimizer=tf.keras.optimizers.Adam(0.01), metrics=[\"accuracy\"])"
      ],
      "execution_count": null,
      "outputs": []
    },
    {
      "cell_type": "code",
      "metadata": {
        "id": "VOxMMCKa0Dd-",
        "colab": {
          "base_uri": "https://localhost:8080/"
        },
        "outputId": "9aa8ba00-d550-4023-9175-a4446ea9351a"
      },
      "source": [
        "# Fit the model to the training data\n",
        "fit_model = nn_model.fit(X_train_scaled, y_train, epochs=200)"
      ],
      "execution_count": null,
      "outputs": [
        {
          "output_type": "stream",
          "text": [
            "Epoch 1/200\n",
            "100/100 [==============================] - 1s 3ms/step - loss: 0.7211 - accuracy: 0.5267\n",
            "Epoch 2/200\n",
            "100/100 [==============================] - 0s 2ms/step - loss: 0.6891 - accuracy: 0.5487\n",
            "Epoch 3/200\n",
            "100/100 [==============================] - 0s 3ms/step - loss: 0.6889 - accuracy: 0.5497\n",
            "Epoch 4/200\n",
            "100/100 [==============================] - 0s 2ms/step - loss: 0.6904 - accuracy: 0.5506\n",
            "Epoch 5/200\n",
            "100/100 [==============================] - 0s 2ms/step - loss: 0.6935 - accuracy: 0.5403\n",
            "Epoch 6/200\n",
            "100/100 [==============================] - 0s 2ms/step - loss: 0.6899 - accuracy: 0.5462\n",
            "Epoch 7/200\n",
            "100/100 [==============================] - 0s 2ms/step - loss: 0.6944 - accuracy: 0.5465\n",
            "Epoch 8/200\n",
            "100/100 [==============================] - 0s 2ms/step - loss: 0.6886 - accuracy: 0.5531\n",
            "Epoch 9/200\n",
            "100/100 [==============================] - 0s 2ms/step - loss: 0.6933 - accuracy: 0.5456\n",
            "Epoch 10/200\n",
            "100/100 [==============================] - 0s 2ms/step - loss: 0.6887 - accuracy: 0.5494\n",
            "Epoch 11/200\n",
            "100/100 [==============================] - 0s 2ms/step - loss: 0.6878 - accuracy: 0.5557\n",
            "Epoch 12/200\n",
            "100/100 [==============================] - 0s 3ms/step - loss: 0.6882 - accuracy: 0.5494\n",
            "Epoch 13/200\n",
            "100/100 [==============================] - 0s 2ms/step - loss: 0.6873 - accuracy: 0.5522\n",
            "Epoch 14/200\n",
            "100/100 [==============================] - 0s 2ms/step - loss: 0.6873 - accuracy: 0.5538\n",
            "Epoch 15/200\n",
            "100/100 [==============================] - 0s 2ms/step - loss: 0.6887 - accuracy: 0.5469\n",
            "Epoch 16/200\n",
            "100/100 [==============================] - 0s 2ms/step - loss: 0.6876 - accuracy: 0.5541\n",
            "Epoch 17/200\n",
            "100/100 [==============================] - 0s 2ms/step - loss: 0.6861 - accuracy: 0.5610\n",
            "Epoch 18/200\n",
            "100/100 [==============================] - 0s 2ms/step - loss: 0.6874 - accuracy: 0.5557\n",
            "Epoch 19/200\n",
            "100/100 [==============================] - 0s 2ms/step - loss: 0.6873 - accuracy: 0.5579\n",
            "Epoch 20/200\n",
            "100/100 [==============================] - 0s 2ms/step - loss: 0.6876 - accuracy: 0.5528\n",
            "Epoch 21/200\n",
            "100/100 [==============================] - 0s 2ms/step - loss: 0.6873 - accuracy: 0.5531\n",
            "Epoch 22/200\n",
            "100/100 [==============================] - 0s 2ms/step - loss: 0.6877 - accuracy: 0.5553\n",
            "Epoch 23/200\n",
            "100/100 [==============================] - 0s 2ms/step - loss: 0.6887 - accuracy: 0.5522\n",
            "Epoch 24/200\n",
            "100/100 [==============================] - 0s 3ms/step - loss: 0.6860 - accuracy: 0.5569\n",
            "Epoch 25/200\n",
            "100/100 [==============================] - 0s 2ms/step - loss: 0.6880 - accuracy: 0.5528\n",
            "Epoch 26/200\n",
            "100/100 [==============================] - 0s 2ms/step - loss: 0.6878 - accuracy: 0.5519\n",
            "Epoch 27/200\n",
            "100/100 [==============================] - 0s 2ms/step - loss: 0.6864 - accuracy: 0.5566\n",
            "Epoch 28/200\n",
            "100/100 [==============================] - 0s 2ms/step - loss: 0.6854 - accuracy: 0.5588\n",
            "Epoch 29/200\n",
            "100/100 [==============================] - 0s 2ms/step - loss: 0.6866 - accuracy: 0.5544\n",
            "Epoch 30/200\n",
            "100/100 [==============================] - 0s 3ms/step - loss: 0.6881 - accuracy: 0.5509\n",
            "Epoch 31/200\n",
            "100/100 [==============================] - 0s 2ms/step - loss: 0.6878 - accuracy: 0.5513\n",
            "Epoch 32/200\n",
            "100/100 [==============================] - 0s 3ms/step - loss: 0.6879 - accuracy: 0.5509\n",
            "Epoch 33/200\n",
            "100/100 [==============================] - 0s 2ms/step - loss: 0.6877 - accuracy: 0.5516\n",
            "Epoch 34/200\n",
            "100/100 [==============================] - 0s 2ms/step - loss: 0.6877 - accuracy: 0.5522\n",
            "Epoch 35/200\n",
            "100/100 [==============================] - 0s 2ms/step - loss: 0.6884 - accuracy: 0.5516\n",
            "Epoch 36/200\n",
            "100/100 [==============================] - 0s 3ms/step - loss: 0.6884 - accuracy: 0.5494\n",
            "Epoch 37/200\n",
            "100/100 [==============================] - 0s 2ms/step - loss: 0.6876 - accuracy: 0.5522\n",
            "Epoch 38/200\n",
            "100/100 [==============================] - 0s 2ms/step - loss: 0.6887 - accuracy: 0.5494\n",
            "Epoch 39/200\n",
            "100/100 [==============================] - 0s 2ms/step - loss: 0.6874 - accuracy: 0.5522\n",
            "Epoch 40/200\n",
            "100/100 [==============================] - 0s 3ms/step - loss: 0.6868 - accuracy: 0.5528\n",
            "Epoch 41/200\n",
            "100/100 [==============================] - 0s 2ms/step - loss: 0.6845 - accuracy: 0.5572\n",
            "Epoch 42/200\n",
            "100/100 [==============================] - 0s 2ms/step - loss: 0.6854 - accuracy: 0.5572\n",
            "Epoch 43/200\n",
            "100/100 [==============================] - 0s 2ms/step - loss: 0.6854 - accuracy: 0.5553\n",
            "Epoch 44/200\n",
            "100/100 [==============================] - 0s 2ms/step - loss: 0.6872 - accuracy: 0.5516\n",
            "Epoch 45/200\n",
            "100/100 [==============================] - 0s 2ms/step - loss: 0.6877 - accuracy: 0.5535\n",
            "Epoch 46/200\n",
            "100/100 [==============================] - 0s 2ms/step - loss: 0.6878 - accuracy: 0.5516\n",
            "Epoch 47/200\n",
            "100/100 [==============================] - 0s 3ms/step - loss: 0.6856 - accuracy: 0.5557\n",
            "Epoch 48/200\n",
            "100/100 [==============================] - 0s 2ms/step - loss: 0.6857 - accuracy: 0.5553\n",
            "Epoch 49/200\n",
            "100/100 [==============================] - 0s 2ms/step - loss: 0.6858 - accuracy: 0.5607\n",
            "Epoch 50/200\n",
            "100/100 [==============================] - 0s 2ms/step - loss: 0.6865 - accuracy: 0.5541\n",
            "Epoch 51/200\n",
            "100/100 [==============================] - 0s 2ms/step - loss: 0.6840 - accuracy: 0.5594\n",
            "Epoch 52/200\n",
            "100/100 [==============================] - 0s 2ms/step - loss: 0.6862 - accuracy: 0.5604\n",
            "Epoch 53/200\n",
            "100/100 [==============================] - 0s 2ms/step - loss: 0.6843 - accuracy: 0.5610\n",
            "Epoch 54/200\n",
            "100/100 [==============================] - 0s 2ms/step - loss: 0.6851 - accuracy: 0.5563\n",
            "Epoch 55/200\n",
            "100/100 [==============================] - 0s 2ms/step - loss: 0.6840 - accuracy: 0.5635\n",
            "Epoch 56/200\n",
            "100/100 [==============================] - 0s 2ms/step - loss: 0.6854 - accuracy: 0.5575\n",
            "Epoch 57/200\n",
            "100/100 [==============================] - 0s 3ms/step - loss: 0.6843 - accuracy: 0.5601\n",
            "Epoch 58/200\n",
            "100/100 [==============================] - 0s 3ms/step - loss: 0.6850 - accuracy: 0.5604\n",
            "Epoch 59/200\n",
            "100/100 [==============================] - 0s 2ms/step - loss: 0.6835 - accuracy: 0.5607\n",
            "Epoch 60/200\n",
            "100/100 [==============================] - 0s 2ms/step - loss: 0.6830 - accuracy: 0.5623\n",
            "Epoch 61/200\n",
            "100/100 [==============================] - 0s 2ms/step - loss: 0.6835 - accuracy: 0.5632\n",
            "Epoch 62/200\n",
            "100/100 [==============================] - 0s 2ms/step - loss: 0.6850 - accuracy: 0.5572\n",
            "Epoch 63/200\n",
            "100/100 [==============================] - 0s 2ms/step - loss: 0.6847 - accuracy: 0.5594\n",
            "Epoch 64/200\n",
            "100/100 [==============================] - 0s 2ms/step - loss: 0.6841 - accuracy: 0.5623\n",
            "Epoch 65/200\n",
            "100/100 [==============================] - 0s 2ms/step - loss: 0.6835 - accuracy: 0.5648\n",
            "Epoch 66/200\n",
            "100/100 [==============================] - 0s 2ms/step - loss: 0.6837 - accuracy: 0.5610\n",
            "Epoch 67/200\n",
            "100/100 [==============================] - 0s 2ms/step - loss: 0.6822 - accuracy: 0.5657\n",
            "Epoch 68/200\n",
            "100/100 [==============================] - 0s 2ms/step - loss: 0.6836 - accuracy: 0.5610\n",
            "Epoch 69/200\n",
            "100/100 [==============================] - 0s 2ms/step - loss: 0.6809 - accuracy: 0.5657\n",
            "Epoch 70/200\n",
            "100/100 [==============================] - 0s 2ms/step - loss: 0.6837 - accuracy: 0.5619\n",
            "Epoch 71/200\n",
            "100/100 [==============================] - 0s 2ms/step - loss: 0.6824 - accuracy: 0.5642\n",
            "Epoch 72/200\n",
            "100/100 [==============================] - 0s 2ms/step - loss: 0.6823 - accuracy: 0.5626\n",
            "Epoch 73/200\n",
            "100/100 [==============================] - 0s 2ms/step - loss: 0.6826 - accuracy: 0.5626\n",
            "Epoch 74/200\n",
            "100/100 [==============================] - 0s 2ms/step - loss: 0.6817 - accuracy: 0.5648\n",
            "Epoch 75/200\n",
            "100/100 [==============================] - 0s 2ms/step - loss: 0.6832 - accuracy: 0.5629\n",
            "Epoch 76/200\n",
            "100/100 [==============================] - 0s 2ms/step - loss: 0.6818 - accuracy: 0.5626\n",
            "Epoch 77/200\n",
            "100/100 [==============================] - 0s 2ms/step - loss: 0.6816 - accuracy: 0.5626\n",
            "Epoch 78/200\n",
            "100/100 [==============================] - 0s 3ms/step - loss: 0.6821 - accuracy: 0.5623\n",
            "Epoch 79/200\n",
            "100/100 [==============================] - 0s 2ms/step - loss: 0.6809 - accuracy: 0.5645\n",
            "Epoch 80/200\n",
            "100/100 [==============================] - 0s 2ms/step - loss: 0.6811 - accuracy: 0.5635\n",
            "Epoch 81/200\n",
            "100/100 [==============================] - 0s 2ms/step - loss: 0.6802 - accuracy: 0.5642\n",
            "Epoch 82/200\n",
            "100/100 [==============================] - 0s 2ms/step - loss: 0.6797 - accuracy: 0.5673\n",
            "Epoch 83/200\n",
            "100/100 [==============================] - 0s 2ms/step - loss: 0.6807 - accuracy: 0.5673\n",
            "Epoch 84/200\n",
            "100/100 [==============================] - 0s 2ms/step - loss: 0.6807 - accuracy: 0.5654\n",
            "Epoch 85/200\n",
            "100/100 [==============================] - 0s 2ms/step - loss: 0.6812 - accuracy: 0.5645\n",
            "Epoch 86/200\n",
            "100/100 [==============================] - 0s 3ms/step - loss: 0.6804 - accuracy: 0.5642\n",
            "Epoch 87/200\n",
            "100/100 [==============================] - 0s 2ms/step - loss: 0.6800 - accuracy: 0.5670\n",
            "Epoch 88/200\n",
            "100/100 [==============================] - 0s 2ms/step - loss: 0.6792 - accuracy: 0.5664\n",
            "Epoch 89/200\n",
            "100/100 [==============================] - 0s 2ms/step - loss: 0.6803 - accuracy: 0.5670\n",
            "Epoch 90/200\n",
            "100/100 [==============================] - 0s 2ms/step - loss: 0.6829 - accuracy: 0.5626\n",
            "Epoch 91/200\n",
            "100/100 [==============================] - 0s 2ms/step - loss: 0.6834 - accuracy: 0.5638\n",
            "Epoch 92/200\n",
            "100/100 [==============================] - 0s 2ms/step - loss: 0.6806 - accuracy: 0.5660\n",
            "Epoch 93/200\n",
            "100/100 [==============================] - 0s 2ms/step - loss: 0.6799 - accuracy: 0.5667\n",
            "Epoch 94/200\n",
            "100/100 [==============================] - 0s 3ms/step - loss: 0.6808 - accuracy: 0.5676\n",
            "Epoch 95/200\n",
            "100/100 [==============================] - 0s 2ms/step - loss: 0.6793 - accuracy: 0.5654\n",
            "Epoch 96/200\n",
            "100/100 [==============================] - 0s 2ms/step - loss: 0.6783 - accuracy: 0.5667\n",
            "Epoch 97/200\n",
            "100/100 [==============================] - 0s 2ms/step - loss: 0.6790 - accuracy: 0.5676\n",
            "Epoch 98/200\n",
            "100/100 [==============================] - 0s 3ms/step - loss: 0.6810 - accuracy: 0.5635\n",
            "Epoch 99/200\n",
            "100/100 [==============================] - 0s 2ms/step - loss: 0.6812 - accuracy: 0.5648\n",
            "Epoch 100/200\n",
            "100/100 [==============================] - 0s 2ms/step - loss: 0.6805 - accuracy: 0.5635\n",
            "Epoch 101/200\n",
            "100/100 [==============================] - 0s 2ms/step - loss: 0.6787 - accuracy: 0.5689\n",
            "Epoch 102/200\n",
            "100/100 [==============================] - 0s 3ms/step - loss: 0.6801 - accuracy: 0.5664\n",
            "Epoch 103/200\n",
            "100/100 [==============================] - 0s 2ms/step - loss: 0.6785 - accuracy: 0.5676\n",
            "Epoch 104/200\n",
            "100/100 [==============================] - 0s 2ms/step - loss: 0.6800 - accuracy: 0.5676\n",
            "Epoch 105/200\n",
            "100/100 [==============================] - 0s 2ms/step - loss: 0.6780 - accuracy: 0.5689\n",
            "Epoch 106/200\n",
            "100/100 [==============================] - 0s 2ms/step - loss: 0.6789 - accuracy: 0.5660\n",
            "Epoch 107/200\n",
            "100/100 [==============================] - 0s 2ms/step - loss: 0.6782 - accuracy: 0.5695\n",
            "Epoch 108/200\n",
            "100/100 [==============================] - 0s 2ms/step - loss: 0.6777 - accuracy: 0.5701\n",
            "Epoch 109/200\n",
            "100/100 [==============================] - 0s 2ms/step - loss: 0.6795 - accuracy: 0.5648\n",
            "Epoch 110/200\n",
            "100/100 [==============================] - 0s 2ms/step - loss: 0.6850 - accuracy: 0.5601\n",
            "Epoch 111/200\n",
            "100/100 [==============================] - 0s 2ms/step - loss: 0.6795 - accuracy: 0.5686\n",
            "Epoch 112/200\n",
            "100/100 [==============================] - 0s 2ms/step - loss: 0.6804 - accuracy: 0.5642\n",
            "Epoch 113/200\n",
            "100/100 [==============================] - 0s 2ms/step - loss: 0.6791 - accuracy: 0.5664\n",
            "Epoch 114/200\n",
            "100/100 [==============================] - 0s 2ms/step - loss: 0.6869 - accuracy: 0.5692\n",
            "Epoch 115/200\n",
            "100/100 [==============================] - 0s 2ms/step - loss: 0.6788 - accuracy: 0.5670\n",
            "Epoch 116/200\n",
            "100/100 [==============================] - 0s 2ms/step - loss: 0.6791 - accuracy: 0.5660\n",
            "Epoch 117/200\n",
            "100/100 [==============================] - 0s 2ms/step - loss: 0.6778 - accuracy: 0.5676\n",
            "Epoch 118/200\n",
            "100/100 [==============================] - 0s 2ms/step - loss: 0.6768 - accuracy: 0.5708\n",
            "Epoch 119/200\n",
            "100/100 [==============================] - 0s 2ms/step - loss: 0.6771 - accuracy: 0.5701\n",
            "Epoch 120/200\n",
            "100/100 [==============================] - 0s 2ms/step - loss: 0.6786 - accuracy: 0.5664\n",
            "Epoch 121/200\n",
            "100/100 [==============================] - 0s 2ms/step - loss: 0.6782 - accuracy: 0.5682\n",
            "Epoch 122/200\n",
            "100/100 [==============================] - 0s 2ms/step - loss: 0.6770 - accuracy: 0.5676\n",
            "Epoch 123/200\n",
            "100/100 [==============================] - 0s 3ms/step - loss: 0.6781 - accuracy: 0.5670\n",
            "Epoch 124/200\n",
            "100/100 [==============================] - 0s 2ms/step - loss: 0.6762 - accuracy: 0.5711\n",
            "Epoch 125/200\n",
            "100/100 [==============================] - 0s 2ms/step - loss: 0.6869 - accuracy: 0.5654\n",
            "Epoch 126/200\n",
            "100/100 [==============================] - 0s 2ms/step - loss: 0.6869 - accuracy: 0.5714\n",
            "Epoch 127/200\n",
            "100/100 [==============================] - 0s 2ms/step - loss: 0.6798 - accuracy: 0.5676\n",
            "Epoch 128/200\n",
            "100/100 [==============================] - 0s 2ms/step - loss: 0.6789 - accuracy: 0.5642\n",
            "Epoch 129/200\n",
            "100/100 [==============================] - 0s 2ms/step - loss: 0.6786 - accuracy: 0.5660\n",
            "Epoch 130/200\n",
            "100/100 [==============================] - 0s 2ms/step - loss: 0.6777 - accuracy: 0.5676\n",
            "Epoch 131/200\n",
            "100/100 [==============================] - 0s 2ms/step - loss: 0.6772 - accuracy: 0.5686\n",
            "Epoch 132/200\n",
            "100/100 [==============================] - 0s 2ms/step - loss: 0.6768 - accuracy: 0.5682\n",
            "Epoch 133/200\n",
            "100/100 [==============================] - 0s 2ms/step - loss: 0.6759 - accuracy: 0.5698\n",
            "Epoch 134/200\n",
            "100/100 [==============================] - 0s 2ms/step - loss: 0.6787 - accuracy: 0.5673\n",
            "Epoch 135/200\n",
            "100/100 [==============================] - 0s 2ms/step - loss: 0.6791 - accuracy: 0.5651\n",
            "Epoch 136/200\n",
            "100/100 [==============================] - 0s 2ms/step - loss: 0.6767 - accuracy: 0.5701\n",
            "Epoch 137/200\n",
            "100/100 [==============================] - 0s 2ms/step - loss: 0.6765 - accuracy: 0.5673\n",
            "Epoch 138/200\n",
            "100/100 [==============================] - 0s 2ms/step - loss: 0.6759 - accuracy: 0.5673\n",
            "Epoch 139/200\n",
            "100/100 [==============================] - 0s 2ms/step - loss: 0.6761 - accuracy: 0.5698\n",
            "Epoch 140/200\n",
            "100/100 [==============================] - 0s 2ms/step - loss: 0.6765 - accuracy: 0.5714\n",
            "Epoch 141/200\n",
            "100/100 [==============================] - 0s 2ms/step - loss: 0.6760 - accuracy: 0.5714\n",
            "Epoch 142/200\n",
            "100/100 [==============================] - 0s 2ms/step - loss: 0.6772 - accuracy: 0.5664\n",
            "Epoch 143/200\n",
            "100/100 [==============================] - 0s 2ms/step - loss: 0.6784 - accuracy: 0.5657\n",
            "Epoch 144/200\n",
            "100/100 [==============================] - 0s 2ms/step - loss: 0.6770 - accuracy: 0.5689\n",
            "Epoch 145/200\n",
            "100/100 [==============================] - 0s 2ms/step - loss: 0.6782 - accuracy: 0.5651\n",
            "Epoch 146/200\n",
            "100/100 [==============================] - 0s 2ms/step - loss: 0.6753 - accuracy: 0.5701\n",
            "Epoch 147/200\n",
            "100/100 [==============================] - 0s 2ms/step - loss: 0.6860 - accuracy: 0.5632\n",
            "Epoch 148/200\n",
            "100/100 [==============================] - 0s 2ms/step - loss: 0.6826 - accuracy: 0.5654\n",
            "Epoch 149/200\n",
            "100/100 [==============================] - 0s 3ms/step - loss: 0.6801 - accuracy: 0.5654\n",
            "Epoch 150/200\n",
            "100/100 [==============================] - 0s 2ms/step - loss: 0.6780 - accuracy: 0.5673\n",
            "Epoch 151/200\n",
            "100/100 [==============================] - 0s 2ms/step - loss: 0.6775 - accuracy: 0.5682\n",
            "Epoch 152/200\n",
            "100/100 [==============================] - 0s 3ms/step - loss: 0.6796 - accuracy: 0.5689\n",
            "Epoch 153/200\n",
            "100/100 [==============================] - 0s 2ms/step - loss: 0.6749 - accuracy: 0.5704\n",
            "Epoch 154/200\n",
            "100/100 [==============================] - 0s 2ms/step - loss: 0.6758 - accuracy: 0.5708\n",
            "Epoch 155/200\n",
            "100/100 [==============================] - 0s 2ms/step - loss: 0.6753 - accuracy: 0.5698\n",
            "Epoch 156/200\n",
            "100/100 [==============================] - 0s 2ms/step - loss: 0.6746 - accuracy: 0.5720\n",
            "Epoch 157/200\n",
            "100/100 [==============================] - 0s 2ms/step - loss: 0.6762 - accuracy: 0.5673\n",
            "Epoch 158/200\n",
            "100/100 [==============================] - 0s 2ms/step - loss: 0.6759 - accuracy: 0.5714\n",
            "Epoch 159/200\n",
            "100/100 [==============================] - 0s 2ms/step - loss: 0.6749 - accuracy: 0.5701\n",
            "Epoch 160/200\n",
            "100/100 [==============================] - 0s 3ms/step - loss: 0.6746 - accuracy: 0.5717\n",
            "Epoch 161/200\n",
            "100/100 [==============================] - 0s 2ms/step - loss: 0.6744 - accuracy: 0.5717\n",
            "Epoch 162/200\n",
            "100/100 [==============================] - 0s 2ms/step - loss: 0.6753 - accuracy: 0.5711\n",
            "Epoch 163/200\n",
            "100/100 [==============================] - 0s 2ms/step - loss: 0.6741 - accuracy: 0.5714\n",
            "Epoch 164/200\n",
            "100/100 [==============================] - 0s 2ms/step - loss: 0.6763 - accuracy: 0.5711\n",
            "Epoch 165/200\n",
            "100/100 [==============================] - 0s 2ms/step - loss: 0.6749 - accuracy: 0.5708\n",
            "Epoch 166/200\n",
            "100/100 [==============================] - 0s 2ms/step - loss: 0.6749 - accuracy: 0.5708\n",
            "Epoch 167/200\n",
            "100/100 [==============================] - 0s 2ms/step - loss: 0.6749 - accuracy: 0.5717\n",
            "Epoch 168/200\n",
            "100/100 [==============================] - 0s 2ms/step - loss: 0.6767 - accuracy: 0.5692\n",
            "Epoch 169/200\n",
            "100/100 [==============================] - 0s 2ms/step - loss: 0.6775 - accuracy: 0.5689\n",
            "Epoch 170/200\n",
            "100/100 [==============================] - 0s 2ms/step - loss: 0.6762 - accuracy: 0.5711\n",
            "Epoch 171/200\n",
            "100/100 [==============================] - 0s 2ms/step - loss: 0.6762 - accuracy: 0.5714\n",
            "Epoch 172/200\n",
            "100/100 [==============================] - 0s 2ms/step - loss: 0.6764 - accuracy: 0.5682\n",
            "Epoch 173/200\n",
            "100/100 [==============================] - 0s 2ms/step - loss: 0.6768 - accuracy: 0.5692\n",
            "Epoch 174/200\n",
            "100/100 [==============================] - 0s 2ms/step - loss: 0.6778 - accuracy: 0.5701\n",
            "Epoch 175/200\n",
            "100/100 [==============================] - 0s 2ms/step - loss: 0.6780 - accuracy: 0.5651\n",
            "Epoch 176/200\n",
            "100/100 [==============================] - 0s 2ms/step - loss: 0.6743 - accuracy: 0.5711\n",
            "Epoch 177/200\n",
            "100/100 [==============================] - 0s 2ms/step - loss: 0.6921 - accuracy: 0.5686\n",
            "Epoch 178/200\n",
            "100/100 [==============================] - 0s 2ms/step - loss: 0.6735 - accuracy: 0.5708\n",
            "Epoch 179/200\n",
            "100/100 [==============================] - 0s 2ms/step - loss: 0.6730 - accuracy: 0.5726\n",
            "Epoch 180/200\n",
            "100/100 [==============================] - 0s 2ms/step - loss: 0.6751 - accuracy: 0.5692\n",
            "Epoch 181/200\n",
            "100/100 [==============================] - 0s 3ms/step - loss: 0.6720 - accuracy: 0.5726\n",
            "Epoch 182/200\n",
            "100/100 [==============================] - 0s 2ms/step - loss: 0.6731 - accuracy: 0.5701\n",
            "Epoch 183/200\n",
            "100/100 [==============================] - 0s 2ms/step - loss: 0.6730 - accuracy: 0.5717\n",
            "Epoch 184/200\n",
            "100/100 [==============================] - 0s 2ms/step - loss: 0.6755 - accuracy: 0.5692\n",
            "Epoch 185/200\n",
            "100/100 [==============================] - 0s 2ms/step - loss: 0.6772 - accuracy: 0.5660\n",
            "Epoch 186/200\n",
            "100/100 [==============================] - 0s 2ms/step - loss: 0.6748 - accuracy: 0.5686\n",
            "Epoch 187/200\n",
            "100/100 [==============================] - 0s 2ms/step - loss: 0.6716 - accuracy: 0.5736\n",
            "Epoch 188/200\n",
            "100/100 [==============================] - 0s 2ms/step - loss: 0.6869 - accuracy: 0.5651\n",
            "Epoch 189/200\n",
            "100/100 [==============================] - 0s 3ms/step - loss: 0.6728 - accuracy: 0.5733\n",
            "Epoch 190/200\n",
            "100/100 [==============================] - 0s 2ms/step - loss: 0.6850 - accuracy: 0.5730\n",
            "Epoch 191/200\n",
            "100/100 [==============================] - 0s 2ms/step - loss: 0.6793 - accuracy: 0.5723\n",
            "Epoch 192/200\n",
            "100/100 [==============================] - 0s 2ms/step - loss: 0.6743 - accuracy: 0.5686\n",
            "Epoch 193/200\n",
            "100/100 [==============================] - 0s 2ms/step - loss: 0.6711 - accuracy: 0.5736\n",
            "Epoch 194/200\n",
            "100/100 [==============================] - 0s 2ms/step - loss: 0.6837 - accuracy: 0.5720\n",
            "Epoch 195/200\n",
            "100/100 [==============================] - 0s 2ms/step - loss: 0.6713 - accuracy: 0.5720\n",
            "Epoch 196/200\n",
            "100/100 [==============================] - 0s 2ms/step - loss: 0.6736 - accuracy: 0.5698\n",
            "Epoch 197/200\n",
            "100/100 [==============================] - 0s 3ms/step - loss: 0.6723 - accuracy: 0.5698\n",
            "Epoch 198/200\n",
            "100/100 [==============================] - 0s 2ms/step - loss: 0.6871 - accuracy: 0.5736\n",
            "Epoch 199/200\n",
            "100/100 [==============================] - 0s 2ms/step - loss: 0.6705 - accuracy: 0.5695\n",
            "Epoch 200/200\n",
            "100/100 [==============================] - 0s 3ms/step - loss: 0.6688 - accuracy: 0.5742\n"
          ],
          "name": "stdout"
        }
      ]
    },
    {
      "cell_type": "code",
      "metadata": {
        "colab": {
          "base_uri": "https://localhost:8080/"
        },
        "id": "IXbxZFgZ0Dg-",
        "outputId": "82273fc2-43e5-4715-ddb4-83791daf1820"
      },
      "source": [
        "\n",
        "# Evaluate the model using the test data\n",
        "model_loss, model_accuracy = nn_model.evaluate(X_test_scaled,y_test,verbose=2)\n",
        "print(f\"Loss: {model_loss}, Accuracy: {model_accuracy}\")"
      ],
      "execution_count": null,
      "outputs": [
        {
          "output_type": "stream",
          "text": [
            "34/34 - 0s - loss: 0.7897 - accuracy: 0.5462\n",
            "Loss: 0.7897130846977234, Accuracy: 0.546226441860199\n"
          ],
          "name": "stdout"
        }
      ]
    },
    {
      "cell_type": "code",
      "metadata": {
        "id": "3ZcsInmI0DkJ"
      },
      "source": [
        ""
      ],
      "execution_count": null,
      "outputs": []
    }
  ]
}